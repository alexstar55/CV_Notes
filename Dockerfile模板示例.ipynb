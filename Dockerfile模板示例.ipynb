{
  "nbformat": 4,
  "nbformat_minor": 0,
  "metadata": {
    "colab": {
      "name": "Dockerfile模板示例.ipynb",
      "version": "0.3.2",
      "provenance": [],
      "collapsed_sections": [],
      "include_colab_link": true
    },
    "kernelspec": {
      "name": "python3",
      "display_name": "Python 3"
    }
  },
  "cells": [
    {
      "cell_type": "markdown",
      "metadata": {
        "id": "view-in-github",
        "colab_type": "text"
      },
      "source": [
        "<a href=\"https://colab.research.google.com/github/alexstar55/CV_Notes/blob/master/Dockerfile%E6%A8%A1%E6%9D%BF%E7%A4%BA%E4%BE%8B.ipynb\" target=\"_parent\"><img src=\"https://colab.research.google.com/assets/colab-badge.svg\" alt=\"Open In Colab\"/></a>"
      ]
    },
    {
      "cell_type": "code",
      "metadata": {
        "id": "uXODESV-4XEe",
        "colab_type": "code",
        "colab": {}
      },
      "source": [
        ""
      ],
      "execution_count": 0,
      "outputs": []
    },
    {
      "cell_type": "markdown",
      "metadata": {
        "id": "XqAnbZRs4fut",
        "colab_type": "text"
      },
      "source": [
        "## 简介  \n",
        "- 为什么用Dockerfile？因为它生成镜像方便，方便订制，也就是为部署提供便利。  \n",
        "- 这个东西有些格式，下面以这次部署做的Dockerfile为例，可以当成模板，修改部署的环境（cuda, cudnn，各种包）然后生成自己的镜像。"
      ]
    },
    {
      "cell_type": "markdown",
      "metadata": {
        "id": "DJriGjJz4umm",
        "colab_type": "text"
      },
      "source": [
        "## 基本流程  \n",
        "- 基础镜像（Cuda, Cudnn, ubuntu）\n",
        "- 基础安装（apt-get）\n",
        "- python环境建立（这里用miniconda建，因为方（省）便（心））\n",
        "- 安装各种包\n",
        "- 其他设置与清理（时区、软连接、清理等）  \n",
        "下面分别说明按自己的需要构建时，要改哪些东西："
      ]
    },
    {
      "cell_type": "markdown",
      "metadata": {
        "id": "YcfHNFmz_FTR",
        "colab_type": "text"
      },
      "source": [
        "### 基础镜像（Cuda, Cudnn, ubuntu）  \n",
        "```\n",
        "FROM nvidia/cuda:9.0-devel-ubuntu16.04\n",
        "ENV CUDNN_VERSION=7.4.1.5\n",
        "```  \n",
        "通过设定这两行，来指定ubuntu、cuda、cudnn版本。  \n",
        "FROM跟着基础镜像名，通过英伟达的镜像可以指定cuda9.0，ubuntu16.04。对于cudnn，英伟达的9.0-cudnn7-devel-ubuntu16.04镜像cudnn版本是7.0，如果想用别的版本cudnn，就用这个例子的方法即可。  \n",
        "ENV CUDNN_VERSION=7.4.1.5就是设定的版本。"
      ]
    },
    {
      "cell_type": "markdown",
      "metadata": {
        "id": "TrO2xxOQHTMk",
        "colab_type": "text"
      },
      "source": [
        "### 基础安装（apt-get）  \n",
        "```\n",
        "RUN apt-get update && apt-get install -y --no-install-recommends \\\n",
        "        build-essential \\\n",
        "        apt-utils curl g++ \\\n",
        "    cmake \\\n",
        "        git \\\n",
        "        wget \\\n",
        "        libopencv-dev \\\n",
        "        libsnappy-dev \\\n",
        "        python-dev \\\n",
        "        python-pip \\\n",
        "        tzdata \\\n",
        "        vim\n",
        "```\n",
        "这里是apt-get安装一些基础的东西，一般不用改。当然如果有需求，比如把wget换成aria2，或者前面换个下载源，都可以。"
      ]
    },
    {
      "cell_type": "markdown",
      "metadata": {
        "id": "eOLCClGSIPps",
        "colab_type": "text"
      },
      "source": [
        "### python环境建立（这里用miniconda建，因为方（省）便（心））  \n",
        "使用miniconda改python版本很方便：\n",
        "```\n",
        "# Create a Python 3.6 environment\n",
        "RUN /miniconda/bin/conda install -y conda-build \\\n",
        " && /miniconda/bin/conda create -y --name py367 python=3.6.7 \\\n",
        " && /miniconda/bin/conda clean -ya\n",
        " ```  \n",
        " 这里通过python=3.6.7设置python版本，可以按需改"
      ]
    },
    {
      "cell_type": "markdown",
      "metadata": {
        "id": "0s8_CpRTJqbG",
        "colab_type": "text"
      },
      "source": [
        "### 安装各种包  \n",
        "这个没啥，我们已经安了pip，直接pip install:\n",
        "```\n",
        "RUN pip install numpy==1.15.4 \\\n",
        "        pandas==0.20.3 \\\n",
        "        imgaug==0.2.9 \\\n",
        "        opencv_python==4.0.0.21 \\\n",
        "        h5py==2.7.0 \\\n",
        "        scikit_image==0.13.0 \\\n",
        "        scipy==0.19.1 \\\n",
        "        requests==2.18.4 \\\n",
        "        Pillow==6.1.0 \\\n",
        "        barcode_generator==0.1rc15 \\\n",
        "        easywebdav==1.2.0 \\\n",
        "        paramiko==2.6.0 \\\n",
        "        pydrive==1.3.1 \\\n",
        "        schedule==0.6.0 \\\n",
        "        wget \\\n",
        "        lxml && \\\n",
        "    pip install tensorflow-gpu==1.12.0 \\\n",
        "        Keras==2.2.4 \\\n",
        "        && \\ \n",
        "```\n",
        "注意，pip install各包直接不用&&，但是顺序很重要，被依赖的要放在前面安。这里单独把tensorflow放在后面安，确保前面的已安完了。\n",
        "      "
      ]
    },
    {
      "cell_type": "markdown",
      "metadata": {
        "id": "mfppdAhyKsMt",
        "colab_type": "text"
      },
      "source": [
        "### 其他设置与清理（时区、软连接、清理等）  \n",
        "这里要注意两点：  \n",
        "- Docker容器默认时间是UTC，如果代码运行时要用北京时间或别的时间，一个办法是生成容器时挂载这个来显示宿主机时间：-v /etc/localtime:/etc/localtime:ro; 另一个方法就是这里的，在Dockerfile里设置时区，\n",
        "```\n",
        "ln -sf /usr/share/zoneinfo/Asia/Tokyo /etc/localtime && \\\n",
        "```\n",
        "这一行设置的是东京时间，如果改成Asia/Shanghai那就是北京时间（我也不知道为什么系统里用上海表示北京时间）  \n",
        "- 设置cudnn软连接，因为[某种奇怪的原因](https://github.com/tensorflow/tensorflow/issues/6850)，tensorflow在容器里会找不到cudnn。因为cudnn7的文件是cudnn_v7.h而tf只认cudnn.h，所以要加个软连接，  \n",
        "```\n",
        "mkdir /usr/lib/x86_64-linux-gnu/include && \\\n",
        "    ln -s /usr/include/x86_64-linux-gnu/cudnn_v7.h /usr/lib/x86_64-linux-gnu/include/cudnn.h && \\\n",
        "```\n",
        "这里的cudnn是7，如果是别的版本的cudnn，可以先去官网看看对应版本名字是不是cudnn.h，然后按需修改。  \n",
        "剩下的收尾工作，一般不用改。  \n",
        "最后EXPOSE了一个端口，这个没什么影响，也可以按需修改。"
      ]
    },
    {
      "cell_type": "markdown",
      "metadata": {
        "id": "1rWVrpTSP7J_",
        "colab_type": "text"
      },
      "source": [
        "## 镜像生成  \n",
        "在Dockerfile所在的目录里运行：  \n",
        ">docker build -t {dockerhub库名}:{镜像名} .\n",
        "\n",
        "注意最后是一个“.” 。  \n",
        "这样生成镜像，然后docker push到相应的docker hub就可以了。"
      ]
    },
    {
      "cell_type": "markdown",
      "metadata": {
        "id": "C4vnOtMmRVDN",
        "colab_type": "text"
      },
      "source": [
        "## 相关资料  \n",
        "- https://zhuanlan.zhihu.com/p/63055844\n",
        "- https://www.centos.bz/2016/11/running-docker-container-as-daemon/\n",
        "-https://gitlab.com/nvidia/cuda/blob/ubuntu16.04/9.0/devel/cudnn7/Dockerfile"
      ]
    },
    {
      "cell_type": "markdown",
      "metadata": {
        "id": "1BaG8UMN-xhy",
        "colab_type": "text"
      },
      "source": [
        "附完整Dockerfile文件：  \n",
        "```\n",
        "FROM nvidia/cuda:9.0-devel-ubuntu16.04\n",
        "ENV CUDNN_VERSION=7.4.1.5\n",
        "LABEL com.nvidia.cudnn.version=\"${CUDNN_VERSION}\"\n",
        "RUN echo 'debconf debconf/frontend select Noninteractive' | debconf-set-selections\n",
        "\n",
        "RUN apt-get update && apt-get install -y --no-install-recommends \\\n",
        "            libcudnn7=$CUDNN_VERSION-1+cuda9.0 \\\n",
        "            libcudnn7-dev=$CUDNN_VERSION-1+cuda9.0 && \\\n",
        "    apt-mark hold libcudnn7 \n",
        "# install basics\n",
        "RUN apt-get update && apt-get install -y --no-install-recommends \\\n",
        "        build-essential \\\n",
        "        apt-utils curl g++ \\\n",
        "\tcmake \\\n",
        "        git \\\n",
        "        wget \\\n",
        "        libopencv-dev \\\n",
        "        libsnappy-dev \\\n",
        "        python-dev \\\n",
        "        python-pip \\\n",
        "        tzdata \\\n",
        "        vim\n",
        "# Install anaconda for python 3.6\n",
        "# Install Miniconda\n",
        "RUN curl -so /miniconda.sh https://repo.continuum.io/miniconda/Miniconda3-latest-Linux-x86_64.sh \\\n",
        " && chmod +x /miniconda.sh \\\n",
        " && /miniconda.sh -b -p /miniconda \\\n",
        " && rm /miniconda.sh \\\n",
        " && rm -Rf /var/lib/apt/lists/* \\\n",
        " && apt-get update\n",
        " \n",
        "\n",
        "ENV PATH=/miniconda/bin:$PATH\n",
        "\n",
        "# Create a Python 3.6 environment\n",
        "RUN /miniconda/bin/conda install -y conda-build \\\n",
        " && /miniconda/bin/conda create -y --name py367 python=3.6.7 \\\n",
        " && /miniconda/bin/conda clean -ya\n",
        "\n",
        "ENV CONDA_DEFAULT_ENV=py367\n",
        "ENV CONDA_PREFIX=/miniconda/envs/$CONDA_DEFAULT_ENV\n",
        "ENV PATH=$CONDA_PREFIX/bin:$PATH\n",
        "ENV CONDA_AUTO_UPDATE_CONDA=false\n",
        "RUN pip install numpy==1.15.4 \\\n",
        "        pandas==0.20.3 \\\n",
        "        imgaug==0.2.9 \\\n",
        "        opencv_python==4.0.0.21 \\\n",
        "        h5py==2.7.0 \\\n",
        "        scikit_image==0.13.0 \\\n",
        "        scipy==0.19.1 \\\n",
        "        requests==2.18.4 \\\n",
        "        Pillow==6.1.0 \\\n",
        "        barcode_generator==0.1rc15 \\\n",
        "        easywebdav==1.2.0 \\\n",
        "        paramiko==2.6.0 \\\n",
        "        pydrive==1.3.1 \\\n",
        "        schedule==0.6.0 \\\n",
        "        wget \\\n",
        "        lxml && \\\n",
        "    pip install tensorflow-gpu==1.12.0 \\\n",
        "        Keras==2.2.4 \\\n",
        "        && \\\n",
        "# ==================================================================\n",
        "# config & cleanup\n",
        "# ------------------------------------------------------------------\n",
        "    # Set timezone\n",
        "    ln -sf /usr/share/zoneinfo/Asia/Tokyo /etc/localtime && \\\n",
        "    mkdir /usr/lib/x86_64-linux-gnu/include && \\\n",
        "    ln -s /usr/include/x86_64-linux-gnu/cudnn_v7.h /usr/lib/x86_64-linux-gnu/include/cudnn.h && \\\n",
        "    ldconfig && \\\n",
        "    apt-get clean && \\\n",
        "    apt-get autoremove && \\\n",
        "    rm -rf /var/lib/apt/lists/* /tmp/* ~/*\t\n",
        "\n",
        "EXPOSE 6016\n",
        "\n",
        "```"
      ]
    },
    {
      "cell_type": "markdown",
      "metadata": {
        "id": "KpWNWsH14b9e",
        "colab_type": "text"
      },
      "source": [
        ""
      ]
    }
  ]
}