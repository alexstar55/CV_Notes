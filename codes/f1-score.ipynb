{
 "cells": [
  {
   "cell_type": "markdown",
   "metadata": {},
   "source": [
    "# F1-score 的定义与手动推导"
   ]
  },
  {
   "cell_type": "markdown",
   "metadata": {},
   "source": [
    "### 背景知识\n",
    "\n",
    "F1-score:    2*(P*R)/(P+R)\n",
    "\n",
    "'micro':通过先计算总体的TP，FN和FP的数量，再计算F1\n",
    "\n",
    "'macro':分布计算每个类别的F1，然后做平均（各类别F1的权重相同）\n",
    "\n",
    "通过参数用法描述，想必大家从字面层次也能理解他是什么意思:\n",
    "\n",
    "（1）micro就是先计算所有的TP，FN , FP的个数后，然后再利上文提到公式计算出F1.\n",
    "\n",
    "（2）macro其实就是先计算出每个类别的F1值，然后去平均，比如下面多分类问题，总共有1,2,3,4这4个类别，我们可以先算出1的F1，2的F1，3的F1，4的F1,然后再取平均（F1+F2+F3+4）/4\n",
    "\n",
    "### 参考资料\n",
    "[sklearn中 F1-micro 与 F1-macro区别和计算原理 - tech-engin - 博客园](\n",
    "https://www.cnblogs.com/techengin/p/8962024.html)\n",
    "\n",
    "[sklearn.metrics.precision_recall_fscore_support — scikit-learn 0.20.1 documentation](https://scikit-learn.org/stable/modules/generated/sklearn.metrics.precision_recall_fscore_support.html)"
   ]
  },
  {
   "cell_type": "code",
   "execution_count": 1,
   "metadata": {},
   "outputs": [],
   "source": [
    "from sklearn.metrics import f1_score,precision_recall_fscore_support\n",
    "import torch"
   ]
  },
  {
   "cell_type": "markdown",
   "metadata": {},
   "source": [
    "### mutli-label\n",
    "\n",
    "https://www.cnblogs.com/techengin/p/8962024.html"
   ]
  },
  {
   "cell_type": "code",
   "execution_count": 2,
   "metadata": {},
   "outputs": [
    {
     "name": "stdout",
     "output_type": "stream",
     "text": [
      "1.  micro：use sklearn 0.6153846153846153\n",
      "\n",
      "marco of each class:  [0.75       0.66666667 0.5        0.5       ]\n",
      "2.0 macro：caculate by hand  0.6041666666666666\n",
      "2.1 macro：use sklearn 0.6041666666666666\n"
     ]
    }
   ],
   "source": [
    "# input\n",
    "y_true = [1, 1, 1, 1, 1, 2, 2, 2, 2, 3, 3, 3, 4, 4]\n",
    "y_pred = [1, 1, 1, 0, 0, 2, 2, 3, 3, 3, 4, 3, 4, 3]\n",
    "\n",
    "\n",
    "print('1.  micro：use sklearn',f1_score(y_true,y_pred,labels=[1,2,3,4],average='micro'))\n",
    "\n",
    "p_class, r_class, f_class, support_micro=precision_recall_fscore_support(y_true=y_true, y_pred=y_pred, labels=[1, 2, 3, 4], average=None)\n",
    "print('\\nmarco of each class: ',f_class)\n",
    "print('2.0 macro：caculate by hand ',f_class.mean())\n",
    "print('2.1 macro：use sklearn',f1_score(y_true,y_pred,labels=[1,2,3,4],average='macro'))"
   ]
  },
  {
   "cell_type": "markdown",
   "metadata": {},
   "source": [
    "### one-hot"
   ]
  },
  {
   "cell_type": "code",
   "execution_count": 3,
   "metadata": {},
   "outputs": [
    {
     "ename": "NameError",
     "evalue": "name 'torch' is not defined",
     "output_type": "error",
     "traceback": [
      "\u001b[1;31m---------------------------------------------------------------------------\u001b[0m",
      "\u001b[1;31mNameError\u001b[0m                                 Traceback (most recent call last)",
      "\u001b[1;32m<ipython-input-3-da114b4c04fa>\u001b[0m in \u001b[0;36m<module>\u001b[1;34m\u001b[0m\n\u001b[1;32m----> 1\u001b[1;33m output = torch.IntTensor([[1,1,1],\n\u001b[0m\u001b[0;32m      2\u001b[0m                           [1,1,1]])\n\u001b[0;32m      3\u001b[0m target = torch.IntTensor([[1,1,0],\n\u001b[0;32m      4\u001b[0m                           [0,1,1]])\n\u001b[0;32m      5\u001b[0m \u001b[1;33m\u001b[0m\u001b[0m\n",
      "\u001b[1;31mNameError\u001b[0m: name 'torch' is not defined"
     ]
    }
   ],
   "source": [
    "output = torch.IntTensor([[1,1,1],\n",
    "                          [1,1,1]])\n",
    "target = torch.IntTensor([[1,1,0],\n",
    "                          [0,1,1]])\n",
    "\n",
    "f1_batch = f1_score(target, output,average='macro')\n",
    "print(f1_batch)"
   ]
  },
  {
   "cell_type": "raw",
   "metadata": {},
   "source": [
    "My caculation:\n",
    "\n",
    "class    TP   FP   FN  |   P   R   f1\n",
    "1       1   0   1   |   1   1/2  2/3\n",
    "2       2   0   0   |   1   1   1\n",
    "3       1   1   0   |   1   1/2  2/3\n",
    "\n",
    "macro f1 = (2/3 + 1 + 2/3) / 3 = 7/9 =0.777..."
   ]
  }
 ],
 "metadata": {
  "kernelspec": {
   "display_name": "Python 3",
   "language": "python",
   "name": "python3"
  },
  "language_info": {
   "codemirror_mode": {
    "name": "ipython",
    "version": 3
   },
   "file_extension": ".py",
   "mimetype": "text/x-python",
   "name": "python",
   "nbconvert_exporter": "python",
   "pygments_lexer": "ipython3",
   "version": "3.6.2"
  }
 },
 "nbformat": 4,
 "nbformat_minor": 2
}
